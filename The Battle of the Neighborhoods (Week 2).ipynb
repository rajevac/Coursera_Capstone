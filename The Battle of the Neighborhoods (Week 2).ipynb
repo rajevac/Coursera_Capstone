{
    "cells": [
        {
            "metadata": {
                "collapsed": true
            },
            "cell_type": "markdown",
            "source": "# Capstone Project - The Battle of the Neighborhoods (Week 2)\n### Applied Data Science Capstone by IBM/Coursera"
        },
        {
            "metadata": {},
            "cell_type": "markdown",
            "source": "## Table of contents\n* [Introduction: Business Problem](#introduction)\n* [Data Description](#data)\n* [Methodology](#methodology)\n* [Analysis](#analysis)\n* [Results and Discussion](#results)\n* [Conclusion](#conclusion)"
        },
        {
            "metadata": {},
            "cell_type": "markdown",
            "source": "## 1. Introduction <a name=\"introduction\"></a>\n### 1.1. Background\nWith population of more than 300,000 Howard County, Maryland, USA is considered as one of the best places to live in USA. Its close proximity to Baltimore and Washington, DC as well as having some of the best schools in country makes it very attractive place of residence for mid to upper income families. Because of this, Howard County is very attractive place for small business such as coffee shops, bakeries, and restaurants. This also makes entry to the market very competitive. For someone, for example opening a bakery, choosing the right location for the shop can make or break the business.\n\n### 1.2. Problem\nHow someone who wants to open for example a bakery should choose the right location? One would argue that close proximity to the exits from the interstate roads might be a good choice since majority of inhabitants of Howard County is using them for daily commute to their work, so it will make business position in such a location very convenient to stop by. However, Covid-19 and work from home phenomenon dramatically changed people\u2019s daily routines, so location near interstate exit may not be a good choice. It will be useful to conduct geo-location analysis to possibly find pattern and understand which location might be more popular than other. \n\n### 1.3. Interest\nFor purpose of this exercise, I\u2019ll will do the analysis and try to predict the best spot to open a bakery. Therefore, this research might be of interest to somebody who wants to open a bakery and needs to know which location might be the best to open such a business.\n\n## 2. Data Description <a name=\"data\"></a>\n\nFor the analysis I\u2019ll use **Foursquare API** to get most popular venues in Howard County. Also, I\u2019ll check the location of current bakeries and bakeries within grocery stores. \n\nWhile some bakeries within grocery stores are listed on Foursquare, Giant Food\u2019s bakery is not. There is no public data available with this information, so I\u2019ll use **Google Maps** to locate such groceries. I\u2019ll also add grocery stores with no bakeries to our dataset, since opening a new bakery near such a business may not be a bad choice. \n\nTo locate county divisions and get their longitude and latitude I\u2019ll use the **Howard County Zip Codes** from [ciclt.net](http://ciclt.net/sn/clt/capitolimpact/gw_ziplist.aspx?ClientCode=capitolimpact&State=md&StName=Maryland&StFIPS=24&FIPS=24027). ",
            "attachments": {}
        },
        {
            "metadata": {},
            "cell_type": "code",
            "source": "",
            "execution_count": null,
            "outputs": []
        }
    ],
    "metadata": {
        "kernelspec": {
            "name": "python3",
            "display_name": "Python 3.7",
            "language": "python"
        },
        "language_info": {
            "name": "python",
            "version": "3.7.9",
            "mimetype": "text/x-python",
            "codemirror_mode": {
                "name": "ipython",
                "version": 3
            },
            "pygments_lexer": "ipython3",
            "nbconvert_exporter": "python",
            "file_extension": ".py"
        }
    },
    "nbformat": 4,
    "nbformat_minor": 1
}